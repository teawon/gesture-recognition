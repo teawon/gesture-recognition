{
 "cells": [
  {
   "cell_type": "code",
   "execution_count": 5,
   "id": "e59e2523",
   "metadata": {},
   "outputs": [
    {
     "name": "stderr",
     "output_type": "stream",
     "text": [
      "INFO: Created TensorFlow Lite XNNPACK delegate for CPU.\n"
     ]
    },
    {
     "name": "stdout",
     "output_type": "stream",
     "text": [
      "label1 (150, 100)\n",
      "label1 (120, 30, 100)\n",
      "label2 (150, 100)\n",
      "label2 (120, 30, 100)\n",
      "label3 (150, 100)\n",
      "label3 (120, 30, 100)\n"
     ]
    }
   ],
   "source": [
    "import numpy as np\n",
    "import time, os\n",
    "import mediapipe as mp\n",
    "import cv2\n",
    "\n",
    "actions = ['label1', 'label2', 'label3'] #학습시킬 단어 (각각 0,1,2에 매칭)\n",
    "seq_length = 30 #하나의 데이터가 가지는 sequence길이 (30개씩 쪼개서 학습시킨다) -> LSTM 사용시 필요함\n",
    "secs_for_action = 30 #각 데이터당 30초씩 학습을 시킴 //동영상의 길이로 수정할것\n",
    "\n",
    "# MediaPipe hands model\n",
    "mp_hands = mp.solutions.hands\n",
    "mp_drawing = mp.solutions.drawing_utils\n",
    "hands = mp_hands.Hands(\n",
    "    max_num_hands=2,\n",
    "    min_detection_confidence=0.5,\n",
    "    min_tracking_confidence=0.5)\n",
    "\n",
    "\n",
    "\n",
    "created_time = int(time.time())\n",
    "os.makedirs('dataset', exist_ok=True) #dataSet 저장 폴더 생성\n",
    "\n",
    "\n",
    "for idx, action in enumerate(actions): #폴더의 개수만큼 반복해야함. 각 폴더가 라벨명을 의미하도록 수정\n",
    "        \n",
    "        cap = cv2.VideoCapture('aihub/NIA_SL_WORD2152_SYN03_R.mp4') #폴더 내 영상을 열기\n",
    "        data = []\n",
    "        start_time = time.time()\n",
    "\n",
    "        while cap.isOpened(): #각 프레임을 읽어 mediaPipe에 넣는다\n",
    "            ret, img = cap.read()\n",
    "            if not ret:\n",
    "                break;\n",
    "\n",
    "            img = cv2.flip(img, 1)\n",
    "            img = cv2.cvtColor(img, cv2.COLOR_BGR2RGB)\n",
    "            result = hands.process(img)\n",
    "            img = cv2.cvtColor(img, cv2.COLOR_RGB2BGR)\n",
    "\n",
    "            if result.multi_hand_landmarks is not None:\n",
    "                for res in result.multi_hand_landmarks:\n",
    "                    joint = np.zeros((21, 4))\n",
    "                    for j, lm in enumerate(res.landmark):\n",
    "                        joint[j] = [lm.x, lm.y, lm.z, lm.visibility] # 각 각도정보 및 손가락의 랜드마크가 보이는 여부를 추가\n",
    "\n",
    "                    # Compute angles between joints\n",
    "                    v1 = joint[[0,1,2,3,0,5,6,7,0,9,10,11,0,13,14,15,0,17,18,19], :3] # Parent joint (각도를 구한다)\n",
    "                    v2 = joint[[1,2,3,4,5,6,7,8,9,10,11,12,13,14,15,16,17,18,19,20], :3] # Child joint\n",
    "                    v = v2 - v1 # [20, 3]\n",
    "                    # Normalize v\n",
    "                    v = v / np.linalg.norm(v, axis=1)[:, np.newaxis]\n",
    "\n",
    "                    # Get angle using arcos of dot product\n",
    "                    angle = np.arccos(np.einsum('nt,nt->n',\n",
    "                        v[[0,1,2,4,5,6,8,9,10,12,13,14,16,17,18],:], \n",
    "                        v[[1,2,3,5,6,7,9,10,11,13,14,15,17,18,19],:])) # [15,]\n",
    "\n",
    "                    angle = np.degrees(angle) # Convert radian to degree\n",
    "\n",
    "                    angle_label = np.array([angle], dtype=np.float32)\n",
    "                    angle_label = np.append(angle_label, idx) #idx (=라벨)을 넣어준다.\n",
    "\n",
    "                    d = np.concatenate([joint.flatten(), angle_label]) #100개의 행렬이 완성\n",
    "\n",
    "                    data.append(d)\n",
    "\n",
    "                    mp_drawing.draw_landmarks(img, res, mp_hands.HAND_CONNECTIONS)\n",
    "\n",
    "            cv2.imshow('img', img)\n",
    "            if cv2.waitKey(1) == ord('q'):\n",
    "                break\n",
    "\n",
    "        data = np.array(data)\n",
    "        print(action, data.shape) #30초 동안 모은 데이터를 np배열로 변환\n",
    "        np.save(os.path.join('dataset', f'raw_{action}_{created_time}'), data) #npy형태로 저장한다.\n",
    "\n",
    "        # Create sequence data (30개씩 모아 시퀸스 데이터를 만든다.)\n",
    "        full_seq_data = []\n",
    "        for seq in range(len(data) - seq_length):\n",
    "            full_seq_data.append(data[seq:seq + seq_length])\n",
    "\n",
    "        full_seq_data = np.array(full_seq_data)\n",
    "        print(action, full_seq_data.shape)\n",
    "        np.save(os.path.join('dataset', f'seq_{action}_{created_time}'), full_seq_data)\n",
    "\n",
    "        # 즉 raw, seq 2개의 파일을 생성한다. (실제 seq파일을 사용하게됨)\n",
    " "
   ]
  },
  {
   "cell_type": "code",
   "execution_count": null,
   "id": "208c9f89",
   "metadata": {},
   "outputs": [],
   "source": []
  }
 ],
 "metadata": {
  "kernelspec": {
   "display_name": "Python 3 (ipykernel)",
   "language": "python",
   "name": "python3"
  },
  "language_info": {
   "codemirror_mode": {
    "name": "ipython",
    "version": 3
   },
   "file_extension": ".py",
   "mimetype": "text/x-python",
   "name": "python",
   "nbconvert_exporter": "python",
   "pygments_lexer": "ipython3",
   "version": "3.7.15"
  }
 },
 "nbformat": 4,
 "nbformat_minor": 5
}
